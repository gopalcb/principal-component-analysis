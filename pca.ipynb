{
 "cells": [
  {
   "cell_type": "markdown",
   "id": "169f252f-ab02-4707-9f09-4179aac6f99f",
   "metadata": {},
   "source": [
    "<h3>Principal Component Analysis (PCA):</h3>\n",
    "\n",
    "* PCA is an unsupervised learning technique for reducing the dimensionality of a large dataset consisting of a large number of features.\n",
    "* During dimensionality reduction, PCA retains as much as possible of the variation present in the original dataset.\n",
    "* While computing PCA of a dataset of N features, the PCA algorithm can generate maximum N number of principal components (PC) (PC_1...PC_N).\n",
    "* Along with data dimensionality reduction, PCA is used across a variety of other applications, for example, exploratory data analysis, data compression, de-noising signal data and many more.\n",
    "* We can visualize data upto maximum of 3 dimensions or a dataset containing 3 features. If a dataset has, for example, 20 features, it is not possible to visualize the 20 features in 20 dimensional space.\n",
    "* PCA helps us to find the most significant feature in a higher dimensional dataset and makes the data visualization easy in 2D and 3D space."
   ]
  },
  {
   "cell_type": "markdown",
   "id": "2d634b3c-e37d-49ec-b94b-8bedd3d78aee",
   "metadata": {},
   "source": [
    "<h3>Step by step implementation of PCA Algorithm:</h3>"
   ]
  },
  {
   "cell_type": "markdown",
   "id": "8df1687d-ac24-48df-98d6-96adaeeab396",
   "metadata": {},
   "source": [
    "Suppose that we have a simple dataset with just two attributes x1 and x2."
   ]
  },
  {
   "cell_type": "code",
   "execution_count": 50,
   "id": "b3c2a381-9a98-40d5-aa2a-a11c5753e64c",
   "metadata": {},
   "outputs": [],
   "source": [
    "import numpy as np\n",
    "from numpy import linalg as la\n",
    "from matplotlib import pyplot as plt"
   ]
  },
  {
   "cell_type": "code",
   "execution_count": 51,
   "id": "94d66295-5621-4b72-af6a-fd0fefc6179f",
   "metadata": {},
   "outputs": [],
   "source": [
    "def data_plotting_2d(x, y):\n",
    "    plt.figure('X1 vs X2')\n",
    "    plt.plot(x, y, 'x')\n",
    "    plt.xlabel('X1')\n",
    "    plt.ylabel('X2')\n",
    "    plt.show()"
   ]
  },
  {
   "cell_type": "code",
   "execution_count": 52,
   "id": "c212e352-2de7-4cb9-ad15-20a1f0ddfb57",
   "metadata": {},
   "outputs": [],
   "source": [
    "x1 = [2.5, 0.5, 2.2, 1.9, 3.1, 2.3, 2, 1, 1.5, 1.1]\n",
    "x2 = [2.4, 0.7, 2.9, 2.2, 3.0, 2.7, 1.6, 1.1, 1.6, 0.9]"
   ]
  },
  {
   "cell_type": "markdown",
   "id": "431b35b4-c9ad-444d-be70-68ef40bff54f",
   "metadata": {},
   "source": [
    "Plotting x1 and x2 in 2D plane-"
   ]
  },
  {
   "cell_type": "code",
   "execution_count": 53,
   "id": "bba3b705-c028-4891-9ba5-c30a9ceb1f74",
   "metadata": {},
   "outputs": [
    {
     "data": {
      "image/png": "[encoded data removed]",
      "text/plain": [
       "<Figure size 640x480 with 1 Axes>"
      ]
     },
     "metadata": {},
     "output_type": "display_data"
    }
   ],
   "source": [
    "data_plotting_2d(x1, x2)"
   ]
  },
  {
   "cell_type": "markdown",
   "id": "79f22319-56a7-454d-a20a-d80bda6423d0",
   "metadata": {},
   "source": [
    "PCA can be computed using the following six steps-"
   ]
  },
  {
   "cell_type": "markdown",
   "id": "be884257-0051-4b92-9aff-d1705f629eff",
   "metadata": {},
   "source": [
    "<h3>1. Data Standardization (Computing Z-mean):</h3>"
   ]
  },
  {
   "cell_type": "markdown",
   "id": "fd1f3b33-c50e-492d-965c-c9c599dfaab4",
   "metadata": {},
   "source": [
    "* Calculate mean values of the features x1 and x2\n",
    "* Calculate the deviation of each element from the calculated mean of corresponding feature (x1/x2)\n",
    "* Devide the result by the Standard Deviation of x1/x2"
   ]
  },
  {
   "cell_type": "code",
   "execution_count": 54,
   "id": "bba01c58-192d-42cd-9f40-05df6c061e3a",
   "metadata": {},
   "outputs": [],
   "source": [
    "def compute_z_mean(X):\n",
    "    # find feature mean value\n",
    "    mean = np.mean(X)\n",
    "    # find deviation of feature X\n",
    "    deviation = X - mean\n",
    "    # standard deviation of the feature\n",
    "    std_dev = np.std(X)\n",
    "    # finally calc z mean\n",
    "    z_mean = deviation / std_dev\n",
    "    return z_mean"
   ]
  },
  {
   "cell_type": "code",
   "execution_count": 55,
   "id": "b8914502-98d5-43f8-9f3c-91c022579e0f",
   "metadata": {},
   "outputs": [
    {
     "name": "stdout",
     "output_type": "stream",
     "text": [
      "Z1:\n",
      " [ 0.92627881 -1.7585873   0.52354889  0.12081898  1.73173864  0.6577922\n",
      "  0.25506228 -1.08737078 -0.41615425 -0.95312747]\n",
      "Z2:\n",
      " [ 0.61016865 -1.506743    1.23278973  0.36112022  1.35731394  0.9837413\n",
      " -0.38602507 -1.00864614 -0.38602507 -1.25769457]\n",
      "Z3:\n",
      " [[ 0.92627881 -1.7585873   0.52354889  0.12081898  1.73173864  0.6577922\n",
      "   0.25506228 -1.08737078 -0.41615425 -0.95312747]\n",
      " [ 0.61016865 -1.506743    1.23278973  0.36112022  1.35731394  0.9837413\n",
      "  -0.38602507 -1.00864614 -0.38602507 -1.25769457]]\n"
     ]
    }
   ],
   "source": [
    "# find standardized x1 and x2\n",
    "Z1 = compute_z_mean(x1)\n",
    "print(f'Z1:\\n {Z1}')\n",
    "\n",
    "Z2 = compute_z_mean(x2)\n",
    "print(f'Z2:\\n {Z2}')\n",
    "\n",
    "Z3 = np.array([Z1.T, Z2.T])\n",
    "print(f'Z3:\\n {Z3}')"
   ]
  },
  {
   "cell_type": "markdown",
   "id": "44d27f98-1991-4ed5-9dfa-3641c055dd9f",
   "metadata": {},
   "source": [
    "<h3>2. Find Covariance matrix:</h3>"
   ]
  },
  {
   "cell_type": "markdown",
   "id": "d3c59723-2330-424c-bcb5-c9c00930a2aa",
   "metadata": {},
   "source": [
    "A dataset with N number of features will have N*N covariance matrix."
   ]
  },
  {
   "cell_type": "code",
   "execution_count": 56,
   "id": "5d09a30a-cc9a-4272-892b-86934bfe4f61",
   "metadata": {},
   "outputs": [
    {
     "data": {
      "text/plain": [
       "array([[0.61655556, 0.61544444],\n",
       "       [0.61544444, 0.71655556]])"
      ]
     },
     "execution_count": 56,
     "metadata": {},
     "output_type": "execute_result"
    }
   ],
   "source": [
    "covar = np.cov(np.array([x1, x2]))\n",
    "covar"
   ]
  },
  {
   "cell_type": "markdown",
   "id": "6783aab5-18f0-43a0-8b7e-47ab0581e93a",
   "metadata": {},
   "source": [
    "<h3>3. Compute Eigenvalue and Eigenvector of the covariance matrix:</h3>"
   ]
  },
  {
   "cell_type": "markdown",
   "id": "cb5db005-d19d-41d6-b981-9396300dab2d",
   "metadata": {},
   "source": [
    "Compute the Eigenvalue and Eigenvector and sort them in decreasing order. The reason for performing ordering is: the PC with the largest Eigenvalue contains the maximum variance, hence containing maximum information."
   ]
  },
  {
   "cell_type": "code",
   "execution_count": 57,
   "id": "66a0694a-623c-40b8-a701-9de28daa80d5",
   "metadata": {},
   "outputs": [],
   "source": [
    "def compute_eigen_values_and_vectors(covariance):\n",
    "    # compute eigen vectors and values\n",
    "    eigen_valuess, eigen_vectors = la.eig(covariance)\n",
    "    # sort eigen values in decreasing order\n",
    "    arg_indices = eigen_valuess.argsort()\n",
    "    eigen_valuess = eigen_valuess[arg_indices[::-1]]\n",
    "    eigen_vectors = eigen_vectors[arg_indices[::-1]]\n",
    "    \n",
    "    return eigen_valuess, eigen_vectors"
   ]
  },
  {
   "cell_type": "code",
   "execution_count": 58,
   "id": "036a1838-c1d6-46f0-b0cb-37454c515d7d",
   "metadata": {},
   "outputs": [
    {
     "name": "stdout",
     "output_type": "stream",
     "text": [
      "Eigen values:\n",
      " [1.28402771 0.0490834 ]\n",
      "Eigen vectors:\n",
      " [[ 0.6778734  -0.73517866]\n",
      " [-0.73517866 -0.6778734 ]]\n"
     ]
    }
   ],
   "source": [
    "eigen_valuess, eigen_vectors = compute_eigen_values_and_vectors(covar)\n",
    "print(f'Eigen values:\\n {eigen_valuess}')\n",
    "print(f'Eigen vectors:\\n {eigen_vectors}')"
   ]
  },
  {
   "cell_type": "markdown",
   "id": "b1dfaa7e-8b32-4cd3-aa77-b034decb56bc",
   "metadata": {},
   "source": [
    "<h3>4. Compute the percentage variance of the Eigen vectors:</h3>"
   ]
  },
  {
   "cell_type": "markdown",
   "id": "78612989-0a7c-4d28-9a74-6d72483d9c91",
   "metadata": {},
   "source": [
    "Pencentage variance of an Eigen vector = (Eigen value / sum of Eigen values) * 100"
   ]
  },
  {
   "cell_type": "code",
   "execution_count": 59,
   "id": "38d57a6d-5665-416a-beb8-44c39ca4a0d3",
   "metadata": {},
   "outputs": [
    {
     "data": {
      "text/plain": [
       "96.31813143486458"
      ]
     },
     "execution_count": 59,
     "metadata": {},
     "output_type": "execute_result"
    }
   ],
   "source": [
    "# Pencentage variance of the first Eigen vector\n",
    "variance_percentage_1 = (eigen_valuess[0] / np.sum(eigen_valuess)) * 100\n",
    "variance_percentage_1"
   ]
  },
  {
   "cell_type": "code",
   "execution_count": 60,
   "id": "2e02920d-942a-4aba-ae6d-29046937a898",
   "metadata": {},
   "outputs": [
    {
     "data": {
      "text/plain": [
       "3.681868565135408"
      ]
     },
     "execution_count": 60,
     "metadata": {},
     "output_type": "execute_result"
    }
   ],
   "source": [
    "# Pencentage variance of the first Eigen vector\n",
    "variance_percentage_2 = (eigen_valuess[1] / np.sum(eigen_valuess)) * 100\n",
    "variance_percentage_2"
   ]
  },
  {
   "cell_type": "markdown",
   "id": "345188eb-52c6-4783-b424-bc4078678219",
   "metadata": {},
   "source": [
    "The first PC has extracted most of the information (96.3%). Let's assume that the rest 3.6% of information can be ignored by taking the first PC into consideration."
   ]
  },
  {
   "cell_type": "markdown",
   "id": "b9ead945-f450-4ef3-8e5c-90ca46f7b686",
   "metadata": {},
   "source": [
    "<h3>5. Use PC1 set to construct new feature set:</h3>"
   ]
  },
  {
   "cell_type": "code",
   "execution_count": 61,
   "id": "ff20a0ac-9575-4ce0-8e40-3fe20dc9bb6e",
   "metadata": {},
   "outputs": [
    {
     "data": {
      "text/plain": [
       "array([[ 0.6778734 ],\n",
       "       [-0.73517866]])"
      ]
     },
     "execution_count": 61,
     "metadata": {},
     "output_type": "execute_result"
    }
   ],
   "source": [
    "feature_vector = eigen_vectors[0:1].T\n",
    "feature_vector"
   ]
  },
  {
   "cell_type": "markdown",
   "id": "b9cf7f8b-7dd8-4913-8fca-f9e577424c32",
   "metadata": {},
   "source": [
    "New feature calculation:\n",
    "\n",
    "New feature set = Standardized data * feature vector"
   ]
  },
  {
   "cell_type": "code",
   "execution_count": 62,
   "id": "073ecae0-c671-4767-8960-a3043abacbb3",
   "metadata": {
    "scrolled": true
   },
   "outputs": [
    {
     "data": {
      "text/plain": [
       "array([[ 0.17931679],\n",
       "       [-0.08437426],\n",
       "       [-0.55142083],\n",
       "       [-0.18358791],\n",
       "       [ 0.17603132],\n",
       "       [-0.27732577],\n",
       "       [ 0.45669732],\n",
       "       [ 0.00443539],\n",
       "       [ 0.00169749],\n",
       "       [ 0.27853044]])"
      ]
     },
     "execution_count": 62,
     "metadata": {},
     "output_type": "execute_result"
    }
   ],
   "source": [
    "# compute new feature set using PC1\n",
    "new_feature = np.matmul(Z3.T, feature_vector)\n",
    "new_feature"
   ]
  },
  {
   "cell_type": "markdown",
   "id": "2ce16b16-0486-4d2d-8f8c-71a6472077e1",
   "metadata": {},
   "source": [
    "<br>\n",
    "Ref.\n",
    "\n",
    "https://www.nature.com/articles/nmeth.4346\n",
    "\n",
    "https://www.enjoyalgorithms.com/"
   ]
  }
 ],
 "metadata": {
  "kernelspec": {
   "display_name": "Python 3 (ipykernel)",
   "language": "python",
   "name": "python3"
  },
  "language_info": {
   "codemirror_mode": {
    "name": "ipython",
    "version": 3
   },
   "file_extension": ".py",
   "mimetype": "text/x-python",
   "name": "python",
   "nbconvert_exporter": "python",
   "pygments_lexer": "ipython3",
   "version": "3.11.2"
  }
 },
 "nbformat": 4,
 "nbformat_minor": 5
}
